{
 "cells": [
  {
   "cell_type": "markdown",
   "id": "d0a7da75",
   "metadata": {},
   "source": [
    "# 02 - Quantum Classifier on MNIST (Toy Example)"
   ]
  },
  {
   "cell_type": "code",
   "execution_count": null,
   "id": "56c36945",
   "metadata": {},
   "outputs": [],
   "source": [
    "\n",
    "import pennylane as qml\n",
    "from pennylane import numpy as np\n",
    "from sklearn.decomposition import PCA\n",
    "from sklearn.datasets import fetch_openml\n",
    "from sklearn.model_selection import train_test_split\n",
    "from sklearn.preprocessing import StandardScaler\n",
    "\n",
    "mnist = fetch_openml('mnist_784', version=1)\n",
    "X = mnist.data.astype('float32')\n",
    "y = mnist.target.astype('int64')\n",
    "\n",
    "mask = (y == 4) | (y == 9)\n",
    "X, y = X[mask], y[mask]\n",
    "y = (y == 9).astype(int)\n",
    "\n",
    "X = StandardScaler().fit_transform(X)\n",
    "X_pca = PCA(n_components=4).fit_transform(X)\n",
    "\n",
    "X_train, X_test, y_train, y_test = train_test_split(X_pca, y, test_size=0.2, random_state=42)\n"
   ]
  },
  {
   "cell_type": "code",
   "execution_count": null,
   "id": "e279778a",
   "metadata": {},
   "outputs": [],
   "source": [
    "\n",
    "n_qubits = 4\n",
    "dev = qml.device(\"default.qubit\", wires=n_qubits)\n",
    "\n",
    "def feature_map(x):\n",
    "    for i in range(len(x)):\n",
    "        qml.RX(x[i], wires=i)\n",
    "\n",
    "def variational(params):\n",
    "    for i in range(n_qubits):\n",
    "        qml.RY(params[i], wires=i)\n",
    "    for i in range(n_qubits-1):\n",
    "        qml.CNOT(wires=[i, i+1])\n",
    "\n",
    "@qml.qnode(dev)\n",
    "def circuit(x, params):\n",
    "    feature_map(x)\n",
    "    variational(params)\n",
    "    return qml.expval(qml.PauliZ(0))\n",
    "\n",
    "params = np.random.normal(0, 0.1, size=(n_qubits,), requires_grad=True)\n"
   ]
  },
  {
   "cell_type": "code",
   "execution_count": null,
   "id": "afd2c241",
   "metadata": {},
   "outputs": [],
   "source": [
    "\n",
    "def cost(params, X, Y):\n",
    "    preds = [circuit(x, params) for x in X]\n",
    "    preds = np.sign(preds)\n",
    "    return np.mean((preds - (2*Y-1))**2)\n",
    "\n",
    "opt = qml.GradientDescentOptimizer(stepsize=0.1)\n",
    "for it in range(5):\n",
    "    params, c = opt.step_and_cost(lambda v: cost(v, X_train[:100], y_train[:100]), params)\n",
    "    print(f\"Iter {it}, Cost {c:.4f}\")\n"
   ]
  },
  {
   "cell_type": "code",
   "execution_count": null,
   "id": "3cbc0540",
   "metadata": {},
   "outputs": [],
   "source": [
    "\n",
    "preds = [circuit(x, params) for x in X_test[:100]]\n",
    "preds = np.sign(preds)\n",
    "acc = np.mean(preds == (2*y_test[:100]-1))\n",
    "print(\"Test Accuracy:\", acc)\n"
   ]
  }
 ],
 "metadata": {},
 "nbformat": 4,
 "nbformat_minor": 5
}
